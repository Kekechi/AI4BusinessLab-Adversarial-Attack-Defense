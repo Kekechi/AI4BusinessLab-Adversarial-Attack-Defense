{
 "cells": [
  {
   "cell_type": "markdown",
   "id": "5436a1fb",
   "metadata": {},
   "source": [
    "# Experiment Notebook Template\n",
    "Date:  \n",
    "Author:  \n",
    "Description:  "
   ]
  },
  {
   "cell_type": "markdown",
   "id": "bf3eeb2d",
   "metadata": {},
   "source": [
    "## 1. Objective / Hypothesis / Success Criteria\n",
    "- Objective:\n",
    "- Hypothesis:\n",
    "- Success Criteria"
   ]
  },
  {
   "cell_type": "markdown",
   "id": "4682e2d4",
   "metadata": {},
   "source": [
    "## 2. Environment\n",
    "- Python: Python 3.11.13\n",
    "- OS: Ubuntu 22.04.3 LTS\n",
    "- Tools:\n",
    "  - Tensorflow: 2.20.0\n",
    "  - Keras: 3.11.2\n",
    "  - Adversarial Robustness Toolbox: 1.20.1\n"
   ]
  },
  {
   "cell_type": "code",
   "execution_count": 2,
   "id": "4cda6016",
   "metadata": {},
   "outputs": [
    {
     "name": "stdout",
     "output_type": "stream",
     "text": [
      "PRETTY_NAME=\"Ubuntu 22.04.3 LTS\"\n",
      "NAME=\"Ubuntu\"\n",
      "VERSION_ID=\"22.04\"\n",
      "VERSION=\"22.04.3 LTS (Jammy Jellyfish)\"\n",
      "VERSION_CODENAME=jammy\n",
      "ID=ubuntu\n",
      "ID_LIKE=debian\n",
      "HOME_URL=\"https://www.ubuntu.com/\"\n",
      "SUPPORT_URL=\"https://help.ubuntu.com/\"\n",
      "BUG_REPORT_URL=\"https://bugs.launchpad.net/ubuntu/\"\n",
      "PRIVACY_POLICY_URL=\"https://www.ubuntu.com/legal/terms-and-policies/privacy-policy\"\n",
      "UBUNTU_CODENAME=jammy\n",
      "Python 3.11.13\n",
      "Name: tensorflow\n",
      "Version: 2.20.0\n",
      "Summary: TensorFlow is an open source machine learning framework for everyone.\n",
      "Home-page: https://www.tensorflow.org/\n",
      "Author: Google Inc.\n",
      "Author-email: packages@tensorflow.org\n",
      "License: Apache 2.0\n",
      "Location: /usr/local/lib/python3.11/dist-packages\n",
      "Requires: absl-py, astunparse, flatbuffers, gast, google_pasta, grpcio, h5py, keras, libclang, ml_dtypes, numpy, opt_einsum, packaging, protobuf, requests, setuptools, six, tensorboard, termcolor, typing_extensions, wrapt\n",
      "Required-by: \n",
      "Name: keras\n",
      "Version: 3.11.2\n",
      "Summary: Multi-backend Keras\n",
      "Home-page: \n",
      "Author: \n",
      "Author-email: Keras team <keras-users@googlegroups.com>\n",
      "License: Apache License 2.0\n",
      "Location: /usr/local/lib/python3.11/dist-packages\n",
      "Requires: absl-py, h5py, ml-dtypes, namex, numpy, optree, packaging, rich\n",
      "Required-by: tensorflow\n",
      "Name: adversarial-robustness-toolbox\n",
      "Version: 1.20.1\n",
      "Summary: Toolbox for adversarial machine learning.\n",
      "Home-page: https://github.com/Trusted-AI/adversarial-robustness-toolbox\n",
      "Author: Irina Nicolae\n",
      "Author-email: irinutza.n@gmail.com\n",
      "License: MIT\n",
      "Location: /usr/local/lib/python3.11/dist-packages\n",
      "Requires: numpy, scikit-learn, scipy, setuptools, six, tqdm\n",
      "Required-by: \n"
     ]
    }
   ],
   "source": [
    "!cat /etc/os-release\n",
    "!python --version\n",
    "!pip show tensorflow\n",
    "!pip show keras\n",
    "!pip show adversarial-robustness-toolbox"
   ]
  },
  {
   "cell_type": "markdown",
   "id": "188ec851",
   "metadata": {},
   "source": [
    "## 3. Dataset\n",
    "Dataset: "
   ]
  },
  {
   "cell_type": "code",
   "execution_count": null,
   "id": "84df846b",
   "metadata": {},
   "outputs": [],
   "source": []
  },
  {
   "cell_type": "markdown",
   "id": "84ba49a9",
   "metadata": {},
   "source": [
    "## 4. Model"
   ]
  },
  {
   "cell_type": "markdown",
   "id": "64bd0d70",
   "metadata": {},
   "source": [
    "## 5. Attack / Defense Config"
   ]
  },
  {
   "cell_type": "markdown",
   "id": "50fced56",
   "metadata": {},
   "source": [
    "## 6. Result"
   ]
  },
  {
   "cell_type": "markdown",
   "id": "fbd77a34",
   "metadata": {},
   "source": [
    "## 7. Visualization"
   ]
  }
 ],
 "metadata": {
  "kernelspec": {
   "display_name": "Python 3 (ipykernel)",
   "language": "python",
   "name": "python3"
  },
  "language_info": {
   "codemirror_mode": {
    "name": "ipython",
    "version": 3
   },
   "file_extension": ".py",
   "mimetype": "text/x-python",
   "name": "python",
   "nbconvert_exporter": "python",
   "pygments_lexer": "ipython3",
   "version": "3.11.13"
  }
 },
 "nbformat": 4,
 "nbformat_minor": 5
}
